{
 "cells": [
  {
   "cell_type": "markdown",
   "metadata": {},
   "source": [
    "### SQL :\n",
    "- SQL, which stands for Structured Query Language, is a programming language designed to manage data stored in a relational database.\n",
    "- Database organizes information into `one or more data tables`\n",
    "- SQLite is a lightweight disk-based database, meaning we store data on a hard drive or another type of local storage. \n",
    "- Using the module **sqlite3**, we can create, read, update, and delete the data in the SQLite relational database within the Python environment.\n"
   ]
  },
  {
   "cell_type": "markdown",
   "metadata": {},
   "source": [
    "1. Create connection between SQLite database and python environment.\n",
    "    - connection = sqlite3.connect('database') "
   ]
  },
  {
   "cell_type": "code",
   "execution_count": 13,
   "metadata": {},
   "outputs": [
    {
     "data": {
      "text/html": [
       "<img src=\"https://content.codecademy.com/programs/data-science-path/relational-databases/DataScienceArticle_Animation_1.gif\" width=\"500\"/>"
      ],
      "text/plain": [
       "<IPython.core.display.Image object>"
      ]
     },
     "execution_count": 13,
     "metadata": {},
     "output_type": "execute_result"
    }
   ],
   "source": [
    "# # %%capture  - to hide the output\n",
    "\n",
    "from IPython.display import Image\n",
    "Image(url = \"https://content.codecademy.com/programs/data-science-path/relational-databases/DataScienceArticle_Animation_1.gif\", width = 500)"
   ]
  },
  {
   "cell_type": "markdown",
   "metadata": {},
   "source": [
    "2. The cursor uses the cable to move back and forth to send messages and exchange data between the two :\n",
    "    - cursor = connection.cursor()\n",
    "3. create a table :\n",
    "    - cursor.execute('''CREATE TABLE table_name(field_name1 type1, field_name2 type2, ...) ''')\n",
    "4. insert the values into the table : \n",
    "    - cursor.execute('''INSERT INTO table_name(a,b,c) ''') <br>\n",
    "    `type a b c must consistent with the created type`"
   ]
  },
  {
   "cell_type": "code",
   "execution_count": 19,
   "metadata": {},
   "outputs": [
    {
     "data": {
      "text/plain": [
       "<sqlite3.Cursor at 0x208934fcc70>"
      ]
     },
     "execution_count": 19,
     "metadata": {},
     "output_type": "execute_result"
    }
   ],
   "source": [
    "import sqlite3\n",
    "\n",
    "connection = sqlite3.connect('titanic.db')\n",
    "cursor = connection.cursor()\n",
    "\n",
    "# Create table named new_table\n",
    "cursor.execute('''CREATE TABLE new_table(name TEXT, age INTEGER, username TEXT, pay_rate REAL) ''')\n",
    "# Insert row of values into new_table\n",
    "cursor.execute('''INSERT INTO new_table VALUES('Bob Peterson', 34, 'bob1234', 40.00) ''')\n"
   ]
  },
  {
   "cell_type": "code",
   "execution_count": 5,
   "metadata": {},
   "outputs": [
    {
     "name": "stdout",
     "output_type": "stream",
     "text": [
      "[2, 4, 6]\n"
     ]
    }
   ],
   "source": [
    "lst_a = [1,2,3,4,5,6,7]\n",
    "lst_b = list(filter(lambda x:x%2 == 0, lst_a))\n",
    "print(lst_b)"
   ]
  }
 ],
 "metadata": {
  "interpreter": {
   "hash": "a3921e4ac32b681c28a57f478b3ddda75a3104e894e4c402879b2ae585a4aed5"
  },
  "kernelspec": {
   "display_name": "Python 3.9.2 64-bit",
   "language": "python",
   "name": "python3"
  },
  "language_info": {
   "codemirror_mode": {
    "name": "ipython",
    "version": 3
   },
   "file_extension": ".py",
   "mimetype": "text/x-python",
   "name": "python",
   "nbconvert_exporter": "python",
   "pygments_lexer": "ipython3",
   "version": "3.9.2"
  },
  "orig_nbformat": 4
 },
 "nbformat": 4,
 "nbformat_minor": 2
}
