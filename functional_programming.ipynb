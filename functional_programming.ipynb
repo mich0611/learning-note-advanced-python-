{
 "cells": [
  {
   "cell_type": "markdown",
   "metadata": {},
   "source": [
    "### Introduction to functional programming\n",
    "1. Functional programming is a programming paradigm in which code is structured primarily in the form of functions.\n",
    "2. functional programming offers a different way of thinking when solving a problem.\n",
    "3. OOP(object-oriented programming) vs. FP(functional programming)\n",
    "- a. OOP:<br>\n",
    "    We create a template for an object using the keyword `class`, and we instantiate an object by using the keyword new.<br>\n",
    "    These objects contain fields that store data and methods that manipulate data. In this style, an object can be passed as an argument in the function of another object.<br>\n",
    "- b. FP: <br>\n",
    "    Functions can be passed in as arguments to other functions and can be returned by other functions.\n",
    "4. Imperative Programming vs. Declarative Programming\n",
    "- a. Imperative Programming:<br>\n",
    "    Imperative programming solves a problem by describing the step-by-step solution. Imperative programming is concerned with “`how to solve a problem.`”<br>\n",
    "- b. Declarative Programming:<br>\n",
    "    The programmer’s only task is to describe what problem they would like solved. Declarative programming is concerned with “`what problem to solve.`” Not consider the detail.(How to make it)\n",
    "5. OOP and procedural programming follow an imperative approach; functional programming follows a declarative approach.\n",
    "6. Side Effects : The function have side effects if it pass in the global variables."
   ]
  },
  {
   "cell_type": "code",
   "execution_count": 1,
   "metadata": {},
   "outputs": [
    {
     "name": "stdout",
     "output_type": "stream",
     "text": [
      "(fields(name='France', capital='Paris', continent='Europe'), fields(name='Japan', capital='Tokyo', continent='Asia'), fields(name='Senegal', capital='Dakar', continent='Africa'))\n"
     ]
    }
   ],
   "source": [
    "from collections import namedtuple\n",
    "\n",
    "# namedtuple -> class : field\n",
    "#            -> have 3 attributes : name, capital, continent\n",
    "country = namedtuple(\"fields\", [\"name\", \"capital\", \"continent\"])\n",
    "\n",
    "France = country(\"France\", \"Paris\", \"Europe\")\n",
    "Japan = country(\"Japan\", \"Tokyo\", \"Asia\")\n",
    "Senegal = country(\"Senegal\", \"Dakar\", \"Africa\")\n",
    "\n",
    "countries = (France, Japan, Senegal)\n",
    "print(countries)"
   ]
  },
  {
   "cell_type": "code",
   "execution_count": 2,
   "metadata": {},
   "outputs": [
    {
     "name": "stdout",
     "output_type": "stream",
     "text": [
      "[False, True, False, True, False, True, False, True]\n"
     ]
    }
   ],
   "source": [
    "a = [1,2,3,4,5,6,7,8]\n",
    "\n",
    "b = map(lambda x:True if x%2 == 0 else False, a)\n",
    "print(list(b))"
   ]
  },
  {
   "cell_type": "code",
   "execution_count": 18,
   "metadata": {},
   "outputs": [
    {
     "name": "stdout",
     "output_type": "stream",
     "text": [
      "Fruit(name='grape', price=34, count=3)\n",
      "grape\n"
     ]
    }
   ],
   "source": [
    "from collections import namedtuple\n",
    "\n",
    "fruit = namedtuple(\"Fruit\", [\"name\", \"price\", \"count\"])\n",
    "grape = fruit('grape', 34, 3)\n",
    "print(grape)\n",
    "print(grape.name)"
   ]
  },
  {
   "cell_type": "code",
   "execution_count": null,
   "metadata": {},
   "outputs": [],
   "source": [
    "import csv\n",
    "from functools import reduce\n",
    "\n",
    "def count(predicate, iterable):\n",
    "  pass # Remove this keyword when you start working on this function.    \n",
    "\n",
    "def average(itr):\n",
    "  # If itr is not iterable, this will generate an iterator.  \n",
    "  iterable = iter(itr) \n",
    "\n",
    "with open('1kSalesRec.csv', newline = '') as csvfile:\n",
    "  reader = csv.reader(csvfile, delimiter=',', quotechar='|')\n",
    "  fields = next(reader)\n",
    "  belgiums = None\n",
    "  print(belgiums)\n",
    "  csvfile.seek(0)\n",
    "  avg_portugal = None\n",
    "  print(avg_portugal)"
   ]
  },
  {
   "cell_type": "code",
   "execution_count": 59,
   "metadata": {},
   "outputs": [
    {
     "name": "stdout",
     "output_type": "stream",
     "text": [
      "['Region', 'Country', 'Item Type', 'Sales Channel', 'Order Priority', 'Order Date', 'Order ID', 'Ship Date', 'Units Sold', 'Unit Price', 'Unit Cost', 'Total Revenue', 'Total Cost', 'Total Profit']\n",
      "7\n",
      "['Region', 'Country', 'Item Type', 'Sales Channel', 'Order Priority', 'Order Date', 'Order ID', 'Ship Date', 'Units Sold', 'Unit Price', 'Unit Cost', 'Total Revenue', 'Total Cost', 'Total Profit']\n",
      "632281.405\n"
     ]
    }
   ],
   "source": [
    "import csv\n",
    "from functools import reduce\n",
    "\n",
    "def count(predicate, iterable):\n",
    "  # predicate : the lambda function to filter wanted objects.\n",
    "  count_filter = filter(predicate, iterable)\n",
    "  count_reduce = reduce(lambda x,y:x+1, count_filter, 0) # initialize with 0\n",
    "  return count_reduce\n",
    "\n",
    "def average(itr):\n",
    "  # If itr is not iterable, this will generate an iterator.  \n",
    "  iterable = iter(itr) \n",
    "  return avg_helper(0,0,itr)\n",
    "\n",
    "def avg_helper(curr_sum, curr_count, itr):\n",
    "  next_num = next(itr,'null')\n",
    "\n",
    "  if next_num == 'null':\n",
    "    return curr_sum/curr_count\n",
    "  curr_sum += next_num\n",
    "  curr_count += 1\n",
    "  return avg_helper(curr_sum, curr_count, itr)\n",
    "\n",
    "with open('sales.csv', newline = '') as csvfile:\n",
    "  reader = csv.reader(csvfile, delimiter=',', quotechar='|')\n",
    "  fields = next(reader)\n",
    "  print(fields)\n",
    "  belgiums = count(lambda x:x[1] == 'Belgium', reader)\n",
    "\n",
    "  print(belgiums)\n",
    "\n",
    "  csvfile.seek(0) # go to the first line of csvfile \n",
    "  print(next(reader))\n",
    "\n",
    "  target_average_object = map(lambda x:float(x[13]), filter(lambda x:x[1] == 'Portugal',reader))\n",
    "  avg_portugal = average(target_average_object)\n",
    "\n",
    "  print(avg_portugal)"
   ]
  },
  {
   "cell_type": "code",
   "execution_count": 28,
   "metadata": {},
   "outputs": [
    {
     "name": "stdout",
     "output_type": "stream",
     "text": [
      "4.0\n"
     ]
    }
   ],
   "source": [
    "from functools import reduce\n",
    "\n",
    "a = [1,2,3,4,5,6,7]\n",
    "# list object is not an iterator\n",
    "a = iter(a)\n",
    "\n",
    "def test(itr, curr_sum, curr_count):\n",
    "    next_num = next(itr, 'null')\n",
    "    if next_num == 'null':\n",
    "        return curr_sum/curr_count\n",
    "\n",
    "    curr_sum += next_num\n",
    "    curr_count += 1\n",
    "\n",
    "    return test(itr, curr_sum, curr_count)\n",
    "\n",
    "print(test(a,0,0))\n"
   ]
  },
  {
   "cell_type": "code",
   "execution_count": 3,
   "metadata": {},
   "outputs": [
    {
     "name": "stdout",
     "output_type": "stream",
     "text": [
      "55\n",
      "55\n"
     ]
    }
   ],
   "source": [
    "from functools import reduce\n",
    "\n",
    "lst_a = [1,2,3,4,5]\n",
    "summation = 0\n",
    "\n",
    "# iterative \n",
    "for i in lst_a:\n",
    "    summation += i**2\n",
    "print(summation)\n",
    "\n",
    "# function programming \n",
    "summation_2 = reduce(lambda x,y:x+y, map(lambda x:x**2, lst_a))\n",
    "print(summation_2)\n"
   ]
  }
 ],
 "metadata": {
  "interpreter": {
   "hash": "a3921e4ac32b681c28a57f478b3ddda75a3104e894e4c402879b2ae585a4aed5"
  },
  "kernelspec": {
   "display_name": "Python 3.9.2 64-bit",
   "language": "python",
   "name": "python3"
  },
  "language_info": {
   "codemirror_mode": {
    "name": "ipython",
    "version": 3
   },
   "file_extension": ".py",
   "mimetype": "text/x-python",
   "name": "python",
   "nbconvert_exporter": "python",
   "pygments_lexer": "ipython3",
   "version": "3.9.2"
  },
  "orig_nbformat": 4
 },
 "nbformat": 4,
 "nbformat_minor": 2
}
