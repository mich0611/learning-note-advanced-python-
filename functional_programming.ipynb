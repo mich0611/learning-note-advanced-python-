{
 "cells": [
  {
   "cell_type": "markdown",
   "metadata": {},
   "source": [
    "### Introduction to functional programming\n",
    "1. Functional programming is a programming paradigm in which code is structured primarily in the form of functions.\n",
    "2. functional programming offers a different way of thinking when solving a problem.\n",
    "3. OOP(object-oriented programming) vs. FP(functional programming)\n",
    "- a. OOP:<br>\n",
    "    We create a template for an object using the keyword `class`, and we instantiate an object by using the keyword new.<br>\n",
    "    These objects contain fields that store data and methods that manipulate data. In this style, an object can be passed as an argument in the function of another object.<br>\n",
    "- b. FP: <br>\n",
    "    Functions can be passed in as arguments to other functions and can be returned by other functions.\n",
    "4. Imperative Programming vs. Declarative Programming\n",
    "- a. Imperative Programming:<br>\n",
    "    Imperative programming solves a problem by describing the step-by-step solution. Imperative programming is concerned with “`how to solve a problem.`”<br>\n",
    "- b. Declarative Programming:<br>\n",
    "    The programmer’s only task is to describe what problem they would like solved. Declarative programming is concerned with “`what problem to solve.`” Not consider the detail.(How to make it)\n",
    "5. OOP and procedural programming follow an imperative approach; functional programming follows a declarative approach.\n",
    "6. Side Effects : The function have side effects if it pass in the global variables."
   ]
  },
  {
   "cell_type": "code",
   "execution_count": 1,
   "metadata": {},
   "outputs": [
    {
     "name": "stdout",
     "output_type": "stream",
     "text": [
      "(fields(name='France', capital='Paris', continent='Europe'), fields(name='Japan', capital='Tokyo', continent='Asia'), fields(name='Senegal', capital='Dakar', continent='Africa'))\n"
     ]
    }
   ],
   "source": [
    "from collections import namedtuple\n",
    "\n",
    "# namedtuple -> class : field\n",
    "#            -> have 3 attributes : name, capital, continent\n",
    "country = namedtuple(\"fields\", [\"name\", \"capital\", \"continent\"])\n",
    "\n",
    "France = country(\"France\", \"Paris\", \"Europe\")\n",
    "Japan = country(\"Japan\", \"Tokyo\", \"Asia\")\n",
    "Senegal = country(\"Senegal\", \"Dakar\", \"Africa\")\n",
    "\n",
    "countries = (France, Japan, Senegal)\n",
    "print(countries)"
   ]
  },
  {
   "cell_type": "code",
   "execution_count": 2,
   "metadata": {},
   "outputs": [
    {
     "name": "stdout",
     "output_type": "stream",
     "text": [
      "[False, True, False, True, False, True, False, True]\n"
     ]
    }
   ],
   "source": [
    "a = [1,2,3,4,5,6,7,8]\n",
    "\n",
    "b = map(lambda x:True if x%2 == 0 else False, a)\n",
    "print(list(b))"
   ]
  }
 ],
 "metadata": {
  "interpreter": {
   "hash": "a3921e4ac32b681c28a57f478b3ddda75a3104e894e4c402879b2ae585a4aed5"
  },
  "kernelspec": {
   "display_name": "Python 3.9.2 64-bit",
   "language": "python",
   "name": "python3"
  },
  "language_info": {
   "codemirror_mode": {
    "name": "ipython",
    "version": 3
   },
   "file_extension": ".py",
   "mimetype": "text/x-python",
   "name": "python",
   "nbconvert_exporter": "python",
   "pygments_lexer": "ipython3",
   "version": "3.9.2"
  },
  "orig_nbformat": 4
 },
 "nbformat": 4,
 "nbformat_minor": 2
}
